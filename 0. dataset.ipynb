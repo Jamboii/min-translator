{
 "cells": [
  {
   "cell_type": "markdown",
   "metadata": {},
   "source": [
    "## Imports"
   ]
  },
  {
   "cell_type": "code",
   "execution_count": 1,
   "metadata": {},
   "outputs": [
    {
     "data": {
      "text/html": [
       "\n",
       "                <script type=\"application/javascript\" id=\"jupyter_black\">\n",
       "                (function() {\n",
       "                    if (window.IPython === undefined) {\n",
       "                        return\n",
       "                    }\n",
       "                    var msg = \"WARNING: it looks like you might have loaded \" +\n",
       "                        \"jupyter_black in a non-lab notebook with \" +\n",
       "                        \"`is_lab=True`. Please double check, and if \" +\n",
       "                        \"loading with `%load_ext` please review the README!\"\n",
       "                    console.log(msg)\n",
       "                    alert(msg)\n",
       "                })()\n",
       "                </script>\n",
       "                "
      ],
      "text/plain": [
       "<IPython.core.display.HTML object>"
      ]
     },
     "metadata": {},
     "output_type": "display_data"
    }
   ],
   "source": [
    "from src.tokenizer import Tokenizer, normalize_text\n",
    "import numpy as np\n",
    "\n",
    "import torch\n",
    "from torch.utils.data import DataLoader, TensorDataset\n",
    "from sklearn.model_selection import train_test_split\n",
    "\n",
    "import jupyter_black\n",
    "\n",
    "device = torch.device(\"mps\" if torch.backends.mps.is_available() else \"cpu\")\n",
    "\n",
    "jupyter_black.load()\n",
    "%matplotlib inline"
   ]
  },
  {
   "cell_type": "code",
   "execution_count": 2,
   "metadata": {},
   "outputs": [
    {
     "name": "stdout",
     "output_type": "stream",
     "text": [
      "Vocab size: 512\n"
     ]
    }
   ],
   "source": [
    "# Read the text file\n",
    "# with open(\"data/fra.txt\", \"r\", encoding=\"ascii\", errors=\"ignore\") as fp:\n",
    "with open(\"data/fra.txt\", \"r\") as fp:\n",
    "    data = fp.readlines()\n",
    "sents = np.array([sent.strip(\"\\n\").split(\"\\t\") for sent in data])\n",
    "sents = sents[:, :2]\n",
    "\n",
    "sents[:, 0] = np.array([normalize_text(s) for s in sents[:, 0]])\n",
    "sents[:, 1] = np.array([normalize_text(s) for s in sents[:, 1]])\n",
    "\n",
    "#######################################################\n",
    "\n",
    "# Decide on a maximum sequence length so we can pad our input sequences if necessary\n",
    "MAX_LENGTH = 10\n",
    "eng_prefixes = (\n",
    "    \"i am \",\n",
    "    \"i m \",\n",
    "    \"he is\",\n",
    "    \"he s \",\n",
    "    \"she is\",\n",
    "    \"she s \",\n",
    "    \"you are\",\n",
    "    \"you re \",\n",
    "    \"we are\",\n",
    "    \"we re \",\n",
    "    \"they are\",\n",
    "    \"they re \",\n",
    ")\n",
    "condition = [\n",
    "    len(s.split(\" \")) <= MAX_LENGTH\n",
    "    and len(t.split(\" \")) <= MAX_LENGTH\n",
    "    and s.startswith(eng_prefixes)\n",
    "    for s, t in sents\n",
    "]\n",
    "sents = sents[condition]\n",
    "\n",
    "src_ix, tgt_ix = 1, 0\n",
    "\n",
    "src_tok = Tokenizer(max_length=MAX_LENGTH + 2)\n",
    "src_tok.fit(sents[:, src_ix], max_vocab_size=508)\n",
    "torch.save(src_tok, \"data/src_tok.pt\")\n",
    "\n",
    "tgt_tok = Tokenizer(max_length=MAX_LENGTH + 2)\n",
    "tgt_tok.fit(sents[:, tgt_ix], max_vocab_size=508)\n",
    "torch.save(tgt_tok, \"data/tgt_tok.pt\")\n",
    "\n",
    "X = src_tok.tok_seqs(sents[:, src_ix])\n",
    "y = tgt_tok.tok_seqs(sents[:, tgt_ix])\n",
    "\n",
    "Xtr, Xval, ytr, yval = train_test_split(\n",
    "    X, y, test_size=0.2, random_state=42\n",
    ")  # 80% train, 20% val\n",
    "Xval, Xte, yval, yte = train_test_split(\n",
    "    Xval, yval, test_size=0.5, random_state=42\n",
    ")  # 10% val, 10% test\n",
    "\n",
    "Xtr = torch.tensor(Xtr).to(device)\n",
    "Xval = torch.tensor(Xval).to(device)\n",
    "Xte = torch.tensor(Xte).to(device)\n",
    "ytr = torch.tensor(ytr).to(device)\n",
    "yval = torch.tensor(yval).to(device)\n",
    "yte = torch.tensor(yte).to(device)\n",
    "\n",
    "#########################################\n",
    "\n",
    "batch_size = 25\n",
    "vocab_size = src_tok.vocab_size\n",
    "pad_token_ix = src_tok.wtoi[src_tok.pad_token]\n",
    "print(\"Vocab size:\", vocab_size)\n",
    "\n",
    "train_ds = TensorDataset(Xtr, ytr)\n",
    "train_dl = DataLoader(train_ds, batch_size=batch_size)\n",
    "torch.save(train_dl, \"data/train_dl.pt\")\n",
    "\n",
    "val_ds = TensorDataset(Xval, yval)\n",
    "val_dl = DataLoader(val_ds, batch_size=batch_size)\n",
    "torch.save(val_dl, \"data/val_dl.pt\")\n",
    "\n",
    "test_ds = TensorDataset(Xte, yte)\n",
    "test_dl = DataLoader(test_ds, batch_size=batch_size)\n",
    "torch.save(test_dl, \"data/test_dl.pt\")\n",
    "\n",
    "tiny_train_ds = TensorDataset(Xtr[:10], ytr[:10])\n",
    "tiny_train_dl = DataLoader(tiny_train_ds, batch_size=5)\n",
    "torch.save(tiny_train_dl, \"data/tiny_train_dl.pt\")"
   ]
  },
  {
   "cell_type": "code",
   "execution_count": null,
   "metadata": {},
   "outputs": [],
   "source": []
  }
 ],
 "metadata": {
  "kernelspec": {
   "display_name": "torch",
   "language": "python",
   "name": "python3"
  },
  "language_info": {
   "codemirror_mode": {
    "name": "ipython",
    "version": 3
   },
   "file_extension": ".py",
   "mimetype": "text/x-python",
   "name": "python",
   "nbconvert_exporter": "python",
   "pygments_lexer": "ipython3",
   "version": "3.11.6"
  }
 },
 "nbformat": 4,
 "nbformat_minor": 2
}
